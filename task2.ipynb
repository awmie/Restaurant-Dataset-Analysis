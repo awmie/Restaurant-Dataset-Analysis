{
 "cells": [
  {
   "cell_type": "markdown",
   "metadata": {},
   "source": [
    "### TASK 2"
   ]
  },
  {
   "cell_type": "code",
   "execution_count": 1,
   "metadata": {},
   "outputs": [],
   "source": [
    "import pandas as pd\n",
    "from sklearn.preprocessing import OneHotEncoder\n",
    "from sklearn.metrics.pairwise import cosine_similarity"
   ]
  },
  {
   "cell_type": "code",
   "execution_count": 2,
   "metadata": {},
   "outputs": [],
   "source": [
    "data = pd.read_csv('dataset.csv')"
   ]
  },
  {
   "cell_type": "code",
   "execution_count": 3,
   "metadata": {},
   "outputs": [],
   "source": [
    "\n",
    "# Fill missing values in 'Cuisines' with 'Unknown'\n",
    "data['Cuisines'] = data['Cuisines'].fillna('Unknown')\n",
    "\n",
    "# Fill missing values in 'Price range' with the most common value (mode)\n",
    "data['Price range'] = data['Price range'].fillna(data['Price range'].mode()[0])"
   ]
  },
  {
   "cell_type": "code",
   "execution_count": 4,
   "metadata": {},
   "outputs": [],
   "source": [
    "# Encode 'Cuisines' and 'Price range'\n",
    "encoder = OneHotEncoder(sparse_output=False)\n",
    "encoded_features = encoder.fit_transform(data[['Cuisines', 'Price range']])\n"
   ]
  },
  {
   "cell_type": "code",
   "execution_count": 5,
   "metadata": {},
   "outputs": [
    {
     "name": "stdout",
     "output_type": "stream",
     "text": [
      "   Restaurant ID         Restaurant Name  Country Code              City  \\\n",
      "0        6317637        Le Petit Souffle           162       Makati City   \n",
      "1        6304287        Izakaya Kikufuji           162       Makati City   \n",
      "2        6300002  Heat - Edsa Shangri-La           162  Mandaluyong City   \n",
      "3        6318506                    Ooma           162  Mandaluyong City   \n",
      "4        6314302             Sambo Kojin           162  Mandaluyong City   \n",
      "\n",
      "                                             Address  \\\n",
      "0  Third Floor, Century City Mall, Kalayaan Avenu...   \n",
      "1  Little Tokyo, 2277 Chino Roces Avenue, Legaspi...   \n",
      "2  Edsa Shangri-La, 1 Garden Way, Ortigas, Mandal...   \n",
      "3  Third Floor, Mega Fashion Hall, SM Megamall, O...   \n",
      "4  Third Floor, Mega Atrium, SM Megamall, Ortigas...   \n",
      "\n",
      "                                     Locality  \\\n",
      "0   Century City Mall, Poblacion, Makati City   \n",
      "1  Little Tokyo, Legaspi Village, Makati City   \n",
      "2  Edsa Shangri-La, Ortigas, Mandaluyong City   \n",
      "3      SM Megamall, Ortigas, Mandaluyong City   \n",
      "4      SM Megamall, Ortigas, Mandaluyong City   \n",
      "\n",
      "                                    Locality Verbose   Longitude   Latitude  \\\n",
      "0  Century City Mall, Poblacion, Makati City, Mak...  121.027535  14.565443   \n",
      "1  Little Tokyo, Legaspi Village, Makati City, Ma...  121.014101  14.553708   \n",
      "2  Edsa Shangri-La, Ortigas, Mandaluyong City, Ma...  121.056831  14.581404   \n",
      "3  SM Megamall, Ortigas, Mandaluyong City, Mandal...  121.056475  14.585318   \n",
      "4  SM Megamall, Ortigas, Mandaluyong City, Mandal...  121.057508  14.584450   \n",
      "\n",
      "                           Cuisines  ...  Cuisines_Vietnamese, Fish and Chips  \\\n",
      "0        French, Japanese, Desserts  ...                                  0.0   \n",
      "1                          Japanese  ...                                  0.0   \n",
      "2  Seafood, Asian, Filipino, Indian  ...                                  0.0   \n",
      "3                   Japanese, Sushi  ...                                  0.0   \n",
      "4                  Japanese, Korean  ...                                  0.0   \n",
      "\n",
      "  Cuisines_Western, Asian, Cafe Cuisines_Western, Fusion, Fast Food  \\\n",
      "0                           0.0                                 0.0   \n",
      "1                           0.0                                 0.0   \n",
      "2                           0.0                                 0.0   \n",
      "3                           0.0                                 0.0   \n",
      "4                           0.0                                 0.0   \n",
      "\n",
      "  Cuisines_World Cuisine Cuisines_World Cuisine, Mexican, Italian  \\\n",
      "0                    0.0                                      0.0   \n",
      "1                    0.0                                      0.0   \n",
      "2                    0.0                                      0.0   \n",
      "3                    0.0                                      0.0   \n",
      "4                    0.0                                      0.0   \n",
      "\n",
      "  Cuisines_World Cuisine, Patisserie, Cafe  Price range_1  Price range_2  \\\n",
      "0                                      0.0            0.0            0.0   \n",
      "1                                      0.0            0.0            0.0   \n",
      "2                                      0.0            0.0            0.0   \n",
      "3                                      0.0            0.0            0.0   \n",
      "4                                      0.0            0.0            0.0   \n",
      "\n",
      "  Price range_3 Price range_4  \n",
      "0           1.0           0.0  \n",
      "1           1.0           0.0  \n",
      "2           0.0           1.0  \n",
      "3           0.0           1.0  \n",
      "4           0.0           1.0  \n",
      "\n",
      "[5 rows x 1851 columns]\n"
     ]
    }
   ],
   "source": [
    "# Create a DataFrame with the encoded features\n",
    "encoded_df = pd.DataFrame(encoded_features, columns=encoder.get_feature_names_out(['Cuisines', 'Price range']))\n",
    "\n",
    "# Combine encoded features with the original DataFrame\n",
    "encoded_data = pd.concat([data, encoded_df], axis=1)\n",
    "\n",
    "# Display the first few rows of the processed DataFrame\n",
    "print(encoded_data.head())"
   ]
  },
  {
   "cell_type": "code",
   "execution_count": 6,
   "metadata": {},
   "outputs": [
    {
     "name": "stdout",
     "output_type": "stream",
     "text": [
      "Restaurant ID                               0\n",
      "Restaurant Name                             0\n",
      "Country Code                                0\n",
      "City                                        0\n",
      "Address                                     0\n",
      "                                           ..\n",
      "Cuisines_World Cuisine, Patisserie, Cafe    0\n",
      "Price range_1                               0\n",
      "Price range_2                               0\n",
      "Price range_3                               0\n",
      "Price range_4                               0\n",
      "Length: 1851, dtype: int64\n"
     ]
    }
   ],
   "source": [
    "# Check for any remaining NaNs in the dataset\n",
    "print(encoded_data.isna().sum())\n",
    "\n",
    "# Optionally, fill remaining NaNs in numerical columns with the column mean or median\n",
    "for col in encoded_data.select_dtypes(include=['float64', 'int64']).columns:\n",
    "    encoded_data[col] = encoded_data[col].fillna(encoded_data[col].mean())\n"
   ]
  },
  {
   "cell_type": "code",
   "execution_count": 10,
   "metadata": {},
   "outputs": [],
   "source": [
    "def get_recommendations(user_preferences, encoded_data, num_recommendations=5):\n",
    "    # Convert user preferences to a DataFrame and encode\n",
    "    user_df = pd.DataFrame([user_preferences])\n",
    "    user_vector = encoder.transform(user_df)\n",
    "    \n",
    "    # Compute cosine similarity between user preferences and all restaurants\n",
    "    similarities = cosine_similarity(user_vector, encoded_data[encoder.get_feature_names_out(['Cuisines', 'Price range'])])\n",
    "    \n",
    "    # Get the indices of the top recommendations\n",
    "    indices = similarities[0].argsort()[-num_recommendations:][::-1]\n",
    "    \n",
    "    # Return the top recommended restaurants\n",
    "    return encoded_data.iloc[indices][['Restaurant Name', 'Cuisines', 'Average Cost for two', 'Aggregate rating']]\n"
   ]
  },
  {
   "cell_type": "code",
   "execution_count": 13,
   "metadata": {},
   "outputs": [
    {
     "name": "stdout",
     "output_type": "stream",
     "text": [
      "[[0.  0.  0.  ... 0.  0.  0.5]]\n",
      "Recommendations for the sample user:\n",
      "                     Restaurant Name Cuisines  Average Cost for two  \\\n",
      "3705                       Sinyora's  Italian                   500   \n",
      "2070                       56 Fresca  Italian                   750   \n",
      "1482                  Chilli Indiana  Italian                   500   \n",
      "1106                   Da Pizza Zone  Italian                   500   \n",
      "532   Mom & Dad's Italian Restaurant  Italian                    25   \n",
      "\n",
      "      Aggregate rating  \n",
      "3705               4.0  \n",
      "2070               3.7  \n",
      "1482               3.8  \n",
      "1106               0.0  \n",
      "532                3.7  \n"
     ]
    }
   ],
   "source": [
    "# Sample user preferences\n",
    "sample_user_preferences = {'Cuisines': 'Italian', 'Price range': 2}\n",
    "\n",
    "# Get recommendations for the sample user\n",
    "recommendations = get_recommendations(sample_user_preferences, encoded_data)\n",
    "print(\"Recommendations for the sample user:\")\n",
    "print(recommendations)\n"
   ]
  }
 ],
 "metadata": {
  "kernelspec": {
   "display_name": ".venv",
   "language": "python",
   "name": "python3"
  },
  "language_info": {
   "codemirror_mode": {
    "name": "ipython",
    "version": 3
   },
   "file_extension": ".py",
   "mimetype": "text/x-python",
   "name": "python",
   "nbconvert_exporter": "python",
   "pygments_lexer": "ipython3",
   "version": "3.12.4"
  }
 },
 "nbformat": 4,
 "nbformat_minor": 2
}
